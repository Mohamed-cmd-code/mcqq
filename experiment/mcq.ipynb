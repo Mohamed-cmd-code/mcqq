{
 "cells": [
  {
   "cell_type": "code",
   "execution_count": 71,
   "metadata": {},
   "outputs": [],
   "source": [
    "import os\n",
    "import json\n",
    "import pandas as pd\n",
    "import traceback\n"
   ]
  },
  {
   "cell_type": "code",
   "execution_count": 72,
   "metadata": {},
   "outputs": [],
   "source": [
    "from langchain_groq import ChatGroq"
   ]
  },
  {
   "cell_type": "code",
   "execution_count": 73,
   "metadata": {},
   "outputs": [
    {
     "name": "stdout",
     "output_type": "stream",
     "text": [
      "Requirement already satisfied: python-env in c:\\users\\acer\\mcqq\\env\\lib\\site-packages (1.0.0)Note: you may need to restart the kernel to use updated packages.\n",
      "\n"
     ]
    }
   ],
   "source": [
    "pip install python-env"
   ]
  },
  {
   "cell_type": "code",
   "execution_count": 74,
   "metadata": {},
   "outputs": [],
   "source": [
    "from dotenv import load_dotenv\n",
    "import os"
   ]
  },
  {
   "cell_type": "code",
   "execution_count": 75,
   "metadata": {},
   "outputs": [
    {
     "data": {
      "text/plain": [
       "True"
      ]
     },
     "execution_count": 75,
     "metadata": {},
     "output_type": "execute_result"
    }
   ],
   "source": [
    "load_dotenv()"
   ]
  },
  {
   "cell_type": "code",
   "execution_count": 76,
   "metadata": {},
   "outputs": [],
   "source": [
    "KEY=os.getenv(\"GROQ_API_KEY\")"
   ]
  },
  {
   "cell_type": "code",
   "execution_count": 77,
   "metadata": {},
   "outputs": [],
   "source": [
    "llm=ChatGroq(groq_api_key=KEY,model_name=\"Gemma-7b-it\")"
   ]
  },
  {
   "cell_type": "code",
   "execution_count": 78,
   "metadata": {},
   "outputs": [
    {
     "data": {
      "text/plain": [
       "ChatGroq(client=<groq.resources.chat.completions.Completions object at 0x0000026117BD5610>, async_client=<groq.resources.chat.completions.AsyncCompletions object at 0x0000026117BD5A30>, model_name='Gemma-7b-it')"
      ]
     },
     "execution_count": 78,
     "metadata": {},
     "output_type": "execute_result"
    }
   ],
   "source": [
    "llm"
   ]
  },
  {
   "cell_type": "code",
   "execution_count": 79,
   "metadata": {},
   "outputs": [],
   "source": [
    "\n",
    "from langchain.prompts import PromptTemplate\n",
    "from langchain.chains import LLMChain\n",
    "from langchain.chains import SequentialChain\n",
    "from langchain.callbacks import get_openai_callback\n",
    "import PyPDF2"
   ]
  },
  {
   "cell_type": "code",
   "execution_count": 80,
   "metadata": {},
   "outputs": [],
   "source": [
    "RESPONSE_JSON = {\n",
    "    \"1\": {\n",
    "        \"mcq\": \"multiple choice question\",\n",
    "        \"options\": {\n",
    "            \"a\": \"choice here\",\n",
    "            \"b\": \"choice here\",\n",
    "            \"c\": \"choice here\",\n",
    "            \"d\": \"choice here\"\n",
    "        },\n",
    "        \"correct\": \"correct answer\"\n",
    "    },\n",
    "    \"2\": {\n",
    "        \"mcq\": \"multiple choice question\",\n",
    "        \"options\": {\n",
    "            \"a\": \"choice here\",\n",
    "            \"b\": \"choice here\",\n",
    "            \"c\": \"choice here\",\n",
    "            \"d\": \"choice here\"\n",
    "        },\n",
    "        \"correct\": \"correct answer\"\n",
    "    },\n",
    "    \"3\": {\n",
    "        \"mcq\": \"multiple choice question\",\n",
    "        \"options\": {\n",
    "            \"a\": \"choice here\",\n",
    "            \"b\": \"choice here\",\n",
    "            \"c\": \"choice here\",\n",
    "            \"d\": \"choice here\"\n",
    "        },\n",
    "        \"correct\": \"correct answer\"\n",
    "    }\n",
    "}"
   ]
  },
  {
   "cell_type": "code",
   "execution_count": 81,
   "metadata": {},
   "outputs": [],
   "source": [
    "TEMPLATE=\"\"\"\n",
    "Text: {text}\n",
    "\n",
    "You are an expert MCQ creator. Based on the above text, your task is to create a quiz consisting of exactly {number} multiple-choice questions for {subject} students in a {tone} tone. \n",
    "\n",
    "Guidelines:\n",
    "1. Ensure all questions are unique and directly related to the provided text.\n",
    "2. Verify that all questions and answers conform to the information in the text.\n",
    "3. Use the response  format provided below as a guide.\n",
    "4. The response should be in a json format to convert it in dataframe.\n",
    "5. Follow the same{response_json} format.\n",
    "\n",
    "\n",
    "###RESPONSE_FORMAT\n",
    "   {response_json}\n",
    "\n",
    "\"\"\""
   ]
  },
  {
   "cell_type": "code",
   "execution_count": 82,
   "metadata": {},
   "outputs": [],
   "source": [
    "quiz_generation_prompt = PromptTemplate(\n",
    "    input_variables=[\"text\", \"number\", \"subject\", \"tone\", \"response_json\"],\n",
    "    template=TEMPLATE\n",
    "    )"
   ]
  },
  {
   "cell_type": "code",
   "execution_count": 83,
   "metadata": {},
   "outputs": [],
   "source": [
    "quiz_chain=LLMChain(llm=llm, prompt=quiz_generation_prompt, output_key=\"quiz\", verbose=True)"
   ]
  },
  {
   "cell_type": "code",
   "execution_count": 84,
   "metadata": {},
   "outputs": [],
   "source": [
    "TEMPLATE2=\"\"\"\n",
    "You are an expert english grammarian and writer. Given a Multiple Choice Quiz for {subject} students.\\\n",
    "You need to evaluate the complexity of the question and give a complete analysis of the quiz. Only use at max 50 words for complexity analysis. \n",
    "if the quiz is not at per with the cognitive and analytical abilities of the students,\\\n",
    "update the quiz questions which needs to be changed and change the tone such that it perfectly fits the student abilities\n",
    "Quiz_MCQs:\n",
    "{quiz}\n",
    "\n",
    "Check from an expert English Writer of the above quiz:\n",
    "\"\"\""
   ]
  },
  {
   "cell_type": "code",
   "execution_count": 85,
   "metadata": {},
   "outputs": [],
   "source": [
    "quiz_evaluation_prompt=PromptTemplate(input_variables=[\"subject\", \"quiz\"], template=TEMPLATE)"
   ]
  },
  {
   "cell_type": "code",
   "execution_count": 86,
   "metadata": {},
   "outputs": [],
   "source": [
    "review_chain=LLMChain(llm=llm, prompt=quiz_evaluation_prompt, output_key=\"review\", verbose=True)"
   ]
  },
  {
   "cell_type": "code",
   "execution_count": 87,
   "metadata": {},
   "outputs": [],
   "source": [
    "generate_evaluate_chain=SequentialChain(chains=[quiz_chain, review_chain], input_variables=[\"text\", \"number\", \"subject\", \"tone\", \"response_json\"],\n",
    "                                        output_variables=[\"quiz\", \"review\"], verbose=True,)"
   ]
  },
  {
   "cell_type": "code",
   "execution_count": 88,
   "metadata": {},
   "outputs": [],
   "source": [
    "file_path=r\"C:\\Users\\ACER\\mcqq\\data.txt\""
   ]
  },
  {
   "cell_type": "code",
   "execution_count": 89,
   "metadata": {},
   "outputs": [
    {
     "data": {
      "text/plain": [
       "'C:\\\\Users\\\\ACER\\\\mcqq\\\\data.txt'"
      ]
     },
     "execution_count": 89,
     "metadata": {},
     "output_type": "execute_result"
    }
   ],
   "source": [
    "file_path"
   ]
  },
  {
   "cell_type": "code",
   "execution_count": 90,
   "metadata": {},
   "outputs": [],
   "source": [
    "with open(file_path, 'r', encoding='utf-8') as file:\n",
    "    TEXT = file.read()"
   ]
  },
  {
   "cell_type": "code",
   "execution_count": 91,
   "metadata": {},
   "outputs": [
    {
     "name": "stdout",
     "output_type": "stream",
     "text": [
      "Biology is the scientific study of life.[1][2][3] It is a natural science with a broad scope but has several unifying themes that tie it together as a single, coherent field.[1][2][3] For instance, all organisms are made up of at least one cell that processes hereditary information encoded in genes, which can be transmitted to future generations. Another major theme is evolution, which explains the unity and diversity of life.[1][2][3] Energy processing is also important to life as it allows organisms to move, grow, and reproduce.[1][2][3] Finally, all organisms are able to regulate their own internal environments.[1][2][3][4][5]\n",
      "\n",
      "Biologists are able to study life at multiple levels of organization,[1] from the molecular biology of a cell to the anatomy and physiology of plants and animals, and evolution of populations.[1][6] Hence, there are multiple subdisciplines within biology, each defined by the nature of their research questions and the tools that they use.[7][8][9] Like other scientists, biologists use the scientific method to make observations, pose questions, generate hypotheses, perform experiments, and form conclusions about the world around them.[1]\n",
      "\n",
      "Life on Earth, which emerged more than 3.7 billion years ago,[10] is immensely diverse. Biologists have sought to study and classify the various forms of life, from prokaryotic organisms such as archaea and bacteria to eukaryotic organisms such as protists, fungi, plants, and animals. These various organisms contribute to the biodiversity of an ecosystem, where they play specialized roles in the cycling of nutrients and energy through their biophysical environment.\n"
     ]
    }
   ],
   "source": [
    "print(TEXT)"
   ]
  },
  {
   "cell_type": "code",
   "execution_count": 92,
   "metadata": {},
   "outputs": [
    {
     "data": {
      "text/plain": [
       "'{\"1\": {\"mcq\": \"multiple choice question\", \"options\": {\"a\": \"choice here\", \"b\": \"choice here\", \"c\": \"choice here\", \"d\": \"choice here\"}, \"correct\": \"correct answer\"}, \"2\": {\"mcq\": \"multiple choice question\", \"options\": {\"a\": \"choice here\", \"b\": \"choice here\", \"c\": \"choice here\", \"d\": \"choice here\"}, \"correct\": \"correct answer\"}, \"3\": {\"mcq\": \"multiple choice question\", \"options\": {\"a\": \"choice here\", \"b\": \"choice here\", \"c\": \"choice here\", \"d\": \"choice here\"}, \"correct\": \"correct answer\"}}'"
      ]
     },
     "execution_count": 92,
     "metadata": {},
     "output_type": "execute_result"
    }
   ],
   "source": [
    "# Serialize the Python dictionary into a JSON-formatted string\n",
    "json.dumps(RESPONSE_JSON)"
   ]
  },
  {
   "cell_type": "code",
   "execution_count": 93,
   "metadata": {},
   "outputs": [],
   "source": [
    "NUMBER=5 \n",
    "SUBJECT=\"machine learning\"\n",
    "TONE=\"simple\""
   ]
  },
  {
   "cell_type": "code",
   "execution_count": 94,
   "metadata": {},
   "outputs": [
    {
     "name": "stderr",
     "output_type": "stream",
     "text": [
      "Error in StdOutCallbackHandler.on_chain_start callback: AttributeError(\"'NoneType' object has no attribute 'get'\")\n",
      "Error in StdOutCallbackHandler.on_chain_start callback: AttributeError(\"'NoneType' object has no attribute 'get'\")\n"
     ]
    },
    {
     "name": "stdout",
     "output_type": "stream",
     "text": [
      "Prompt after formatting:\n",
      "\u001b[32;1m\u001b[1;3m\n",
      "Text: Biology is the scientific study of life.[1][2][3] It is a natural science with a broad scope but has several unifying themes that tie it together as a single, coherent field.[1][2][3] For instance, all organisms are made up of at least one cell that processes hereditary information encoded in genes, which can be transmitted to future generations. Another major theme is evolution, which explains the unity and diversity of life.[1][2][3] Energy processing is also important to life as it allows organisms to move, grow, and reproduce.[1][2][3] Finally, all organisms are able to regulate their own internal environments.[1][2][3][4][5]\n",
      "\n",
      "Biologists are able to study life at multiple levels of organization,[1] from the molecular biology of a cell to the anatomy and physiology of plants and animals, and evolution of populations.[1][6] Hence, there are multiple subdisciplines within biology, each defined by the nature of their research questions and the tools that they use.[7][8][9] Like other scientists, biologists use the scientific method to make observations, pose questions, generate hypotheses, perform experiments, and form conclusions about the world around them.[1]\n",
      "\n",
      "Life on Earth, which emerged more than 3.7 billion years ago,[10] is immensely diverse. Biologists have sought to study and classify the various forms of life, from prokaryotic organisms such as archaea and bacteria to eukaryotic organisms such as protists, fungi, plants, and animals. These various organisms contribute to the biodiversity of an ecosystem, where they play specialized roles in the cycling of nutrients and energy through their biophysical environment.\n",
      "\n",
      "You are an expert MCQ creator. Based on the above text, your task is to create a quiz consisting of exactly 5 multiple-choice questions for machine learning students in a simple tone. \n",
      "\n",
      "Guidelines:\n",
      "1. Ensure all questions are unique and directly related to the provided text.\n",
      "2. Verify that all questions and answers conform to the information in the text.\n",
      "3. Use the response  format provided below as a guide.\n",
      "4. The response should be in a json format to convert it in dataframe.\n",
      "5. Follow the same{\n",
      "    \"1\": {\n",
      "        \"mcq\": \"multiple choice question\",\n",
      "        \"options\": {\n",
      "            \"a\": \"choice here\",\n",
      "            \"b\": \"choice here\",\n",
      "            \"c\": \"choice here\",\n",
      "            \"d\": \"choice here\"\n",
      "        },\n",
      "        \"correct\": \"correct answer\"\n",
      "    },\n",
      "    \"2\": {\n",
      "        \"mcq\": \"multiple choice question\",\n",
      "        \"options\": {\n",
      "            \"a\": \"choice here\",\n",
      "            \"b\": \"choice here\",\n",
      "            \"c\": \"choice here\",\n",
      "            \"d\": \"choice here\"\n",
      "        },\n",
      "        \"correct\": \"correct answer\"\n",
      "    },\n",
      "    \"3\": {\n",
      "        \"mcq\": \"multiple choice question\",\n",
      "        \"options\": {\n",
      "            \"a\": \"choice here\",\n",
      "            \"b\": \"choice here\",\n",
      "            \"c\": \"choice here\",\n",
      "            \"d\": \"choice here\"\n",
      "        },\n",
      "        \"correct\": \"correct answer\"\n",
      "    }\n",
      "} format.\n",
      "\n",
      "\n",
      "###RESPONSE_FORMAT\n",
      "   {\n",
      "    \"1\": {\n",
      "        \"mcq\": \"multiple choice question\",\n",
      "        \"options\": {\n",
      "            \"a\": \"choice here\",\n",
      "            \"b\": \"choice here\",\n",
      "            \"c\": \"choice here\",\n",
      "            \"d\": \"choice here\"\n",
      "        },\n",
      "        \"correct\": \"correct answer\"\n",
      "    },\n",
      "    \"2\": {\n",
      "        \"mcq\": \"multiple choice question\",\n",
      "        \"options\": {\n",
      "            \"a\": \"choice here\",\n",
      "            \"b\": \"choice here\",\n",
      "            \"c\": \"choice here\",\n",
      "            \"d\": \"choice here\"\n",
      "        },\n",
      "        \"correct\": \"correct answer\"\n",
      "    },\n",
      "    \"3\": {\n",
      "        \"mcq\": \"multiple choice question\",\n",
      "        \"options\": {\n",
      "            \"a\": \"choice here\",\n",
      "            \"b\": \"choice here\",\n",
      "            \"c\": \"choice here\",\n",
      "            \"d\": \"choice here\"\n",
      "        },\n",
      "        \"correct\": \"correct answer\"\n",
      "    }\n",
      "}\n",
      "\n",
      "\u001b[0m\n"
     ]
    },
    {
     "name": "stderr",
     "output_type": "stream",
     "text": [
      "Error in StdOutCallbackHandler.on_chain_start callback: AttributeError(\"'NoneType' object has no attribute 'get'\")\n"
     ]
    },
    {
     "name": "stdout",
     "output_type": "stream",
     "text": [
      "\n",
      "\u001b[1m> Finished chain.\u001b[0m\n",
      "Prompt after formatting:\n",
      "\u001b[32;1m\u001b[1;3m\n",
      "Text: Biology is the scientific study of life.[1][2][3] It is a natural science with a broad scope but has several unifying themes that tie it together as a single, coherent field.[1][2][3] For instance, all organisms are made up of at least one cell that processes hereditary information encoded in genes, which can be transmitted to future generations. Another major theme is evolution, which explains the unity and diversity of life.[1][2][3] Energy processing is also important to life as it allows organisms to move, grow, and reproduce.[1][2][3] Finally, all organisms are able to regulate their own internal environments.[1][2][3][4][5]\n",
      "\n",
      "Biologists are able to study life at multiple levels of organization,[1] from the molecular biology of a cell to the anatomy and physiology of plants and animals, and evolution of populations.[1][6] Hence, there are multiple subdisciplines within biology, each defined by the nature of their research questions and the tools that they use.[7][8][9] Like other scientists, biologists use the scientific method to make observations, pose questions, generate hypotheses, perform experiments, and form conclusions about the world around them.[1]\n",
      "\n",
      "Life on Earth, which emerged more than 3.7 billion years ago,[10] is immensely diverse. Biologists have sought to study and classify the various forms of life, from prokaryotic organisms such as archaea and bacteria to eukaryotic organisms such as protists, fungi, plants, and animals. These various organisms contribute to the biodiversity of an ecosystem, where they play specialized roles in the cycling of nutrients and energy through their biophysical environment.\n",
      "\n",
      "You are an expert MCQ creator. Based on the above text, your task is to create a quiz consisting of exactly 5 multiple-choice questions for machine learning students in a simple tone. \n",
      "\n",
      "Guidelines:\n",
      "1. Ensure all questions are unique and directly related to the provided text.\n",
      "2. Verify that all questions and answers conform to the information in the text.\n",
      "3. Use the response  format provided below as a guide.\n",
      "4. The response should be in a json format to convert it in dataframe.\n",
      "5. Follow the same{\n",
      "    \"1\": {\n",
      "        \"mcq\": \"multiple choice question\",\n",
      "        \"options\": {\n",
      "            \"a\": \"choice here\",\n",
      "            \"b\": \"choice here\",\n",
      "            \"c\": \"choice here\",\n",
      "            \"d\": \"choice here\"\n",
      "        },\n",
      "        \"correct\": \"correct answer\"\n",
      "    },\n",
      "    \"2\": {\n",
      "        \"mcq\": \"multiple choice question\",\n",
      "        \"options\": {\n",
      "            \"a\": \"choice here\",\n",
      "            \"b\": \"choice here\",\n",
      "            \"c\": \"choice here\",\n",
      "            \"d\": \"choice here\"\n",
      "        },\n",
      "        \"correct\": \"correct answer\"\n",
      "    },\n",
      "    \"3\": {\n",
      "        \"mcq\": \"multiple choice question\",\n",
      "        \"options\": {\n",
      "            \"a\": \"choice here\",\n",
      "            \"b\": \"choice here\",\n",
      "            \"c\": \"choice here\",\n",
      "            \"d\": \"choice here\"\n",
      "        },\n",
      "        \"correct\": \"correct answer\"\n",
      "    }\n",
      "} format.\n",
      "\n",
      "\n",
      "###RESPONSE_FORMAT\n",
      "   {\n",
      "    \"1\": {\n",
      "        \"mcq\": \"multiple choice question\",\n",
      "        \"options\": {\n",
      "            \"a\": \"choice here\",\n",
      "            \"b\": \"choice here\",\n",
      "            \"c\": \"choice here\",\n",
      "            \"d\": \"choice here\"\n",
      "        },\n",
      "        \"correct\": \"correct answer\"\n",
      "    },\n",
      "    \"2\": {\n",
      "        \"mcq\": \"multiple choice question\",\n",
      "        \"options\": {\n",
      "            \"a\": \"choice here\",\n",
      "            \"b\": \"choice here\",\n",
      "            \"c\": \"choice here\",\n",
      "            \"d\": \"choice here\"\n",
      "        },\n",
      "        \"correct\": \"correct answer\"\n",
      "    },\n",
      "    \"3\": {\n",
      "        \"mcq\": \"multiple choice question\",\n",
      "        \"options\": {\n",
      "            \"a\": \"choice here\",\n",
      "            \"b\": \"choice here\",\n",
      "            \"c\": \"choice here\",\n",
      "            \"d\": \"choice here\"\n",
      "        },\n",
      "        \"correct\": \"correct answer\"\n",
      "    }\n",
      "}\n",
      "\n",
      "\u001b[0m\n",
      "\n",
      "\u001b[1m> Finished chain.\u001b[0m\n",
      "\n",
      "\u001b[1m> Finished chain.\u001b[0m\n"
     ]
    }
   ],
   "source": [
    "#https://python.langchain.com/docs/modules/model_io/llms/token_usage_tracking\n",
    "\n",
    "#How to setup Token Usage Tracking in LangChain\n",
    "with get_openai_callback() as cb:\n",
    "    response=generate_evaluate_chain(\n",
    "        {\n",
    "            \"text\": TEXT,\n",
    "            \"number\": NUMBER,\n",
    "            \"subject\":SUBJECT,\n",
    "            \"tone\": TONE,\n",
    "            \"response_json\": json.dumps(RESPONSE_JSON,indent=4)\n",
    "        }\n",
    "        )"
   ]
  },
  {
   "cell_type": "code",
   "execution_count": 95,
   "metadata": {},
   "outputs": [
    {
     "name": "stdout",
     "output_type": "stream",
     "text": [
      "Total Tokens:2708\n",
      "Prompt Tokens:1854\n",
      "Completion Tokens:854\n",
      "Total Cost:0.0\n"
     ]
    }
   ],
   "source": [
    "print(f\"Total Tokens:{cb.total_tokens}\")\n",
    "print(f\"Prompt Tokens:{cb.prompt_tokens}\")\n",
    "print(f\"Completion Tokens:{cb.completion_tokens}\")\n",
    "print(f\"Total Cost:{cb.total_cost}\")"
   ]
  },
  {
   "cell_type": "code",
   "execution_count": 96,
   "metadata": {},
   "outputs": [
    {
     "data": {
      "text/plain": [
       "{'text': 'Biology is the scientific study of life.[1][2][3] It is a natural science with a broad scope but has several unifying themes that tie it together as a single, coherent field.[1][2][3] For instance, all organisms are made up of at least one cell that processes hereditary information encoded in genes, which can be transmitted to future generations. Another major theme is evolution, which explains the unity and diversity of life.[1][2][3] Energy processing is also important to life as it allows organisms to move, grow, and reproduce.[1][2][3] Finally, all organisms are able to regulate their own internal environments.[1][2][3][4][5]\\n\\nBiologists are able to study life at multiple levels of organization,[1] from the molecular biology of a cell to the anatomy and physiology of plants and animals, and evolution of populations.[1][6] Hence, there are multiple subdisciplines within biology, each defined by the nature of their research questions and the tools that they use.[7][8][9] Like other scientists, biologists use the scientific method to make observations, pose questions, generate hypotheses, perform experiments, and form conclusions about the world around them.[1]\\n\\nLife on Earth, which emerged more than 3.7 billion years ago,[10] is immensely diverse. Biologists have sought to study and classify the various forms of life, from prokaryotic organisms such as archaea and bacteria to eukaryotic organisms such as protists, fungi, plants, and animals. These various organisms contribute to the biodiversity of an ecosystem, where they play specialized roles in the cycling of nutrients and energy through their biophysical environment.',\n",
       " 'number': 5,\n",
       " 'subject': 'machine learning',\n",
       " 'tone': 'simple',\n",
       " 'response_json': '{\\n    \"1\": {\\n        \"mcq\": \"multiple choice question\",\\n        \"options\": {\\n            \"a\": \"choice here\",\\n            \"b\": \"choice here\",\\n            \"c\": \"choice here\",\\n            \"d\": \"choice here\"\\n        },\\n        \"correct\": \"correct answer\"\\n    },\\n    \"2\": {\\n        \"mcq\": \"multiple choice question\",\\n        \"options\": {\\n            \"a\": \"choice here\",\\n            \"b\": \"choice here\",\\n            \"c\": \"choice here\",\\n            \"d\": \"choice here\"\\n        },\\n        \"correct\": \"correct answer\"\\n    },\\n    \"3\": {\\n        \"mcq\": \"multiple choice question\",\\n        \"options\": {\\n            \"a\": \"choice here\",\\n            \"b\": \"choice here\",\\n            \"c\": \"choice here\",\\n            \"d\": \"choice here\"\\n        },\\n        \"correct\": \"correct answer\"\\n    }\\n}',\n",
       " 'quiz': '```json\\n{\\n    \"1\": {\\n        \"mcq\": \"What is the primary focus of biology?\",\\n        \"options\": {\\n            \"a\": \"Study of inanimate objects\",\\n            \"b\": \"Study of life forms\",\\n            \"c\": \"Study of physical laws\",\\n            \"d\": \"Study of mathematical concepts\"\\n        },\\n        \"correct\": \"b\"\\n    },\\n    \"2\": {\\n        \"mcq\": \"Which unifying theme connects all organisms?\",\\n        \"options\": {\\n            \"a\": \"Their ability to fly\",\\n            \"b\": \"Their genetic material\",\\n            \"c\": \"Their physical appearance\",\\n            \"d\": \"Their speed of growth\"\\n        },\\n        \"correct\": \"b\"\\n    },\\n    \"3\": {\\n        \"mcq\": \"What is a major energy-related process in life?\",\\n        \"options\": {\\n            \"a\": \"Photosynthesis\",\\n            \"b\": \"Cellular respiration\",\\n            \"c\": \"Fermentation\",\\n            \"d\": \"Combustion\"\\n        },\\n        \"correct\": \"a\"\\n    },\\n    \"4\": {\\n        \"mcq\": \"Which level of organization does biology study?\",\\n        \"options\": {\\n            \"a\": \"Molecular level\",\\n            \"b\": \"Cellular level\",\\n            \"c\": \"Tissue level\",\\n            \"d\": \"All of the above\"\\n        },\\n        \"correct\": \"d\"\\n    },\\n    \"5\": {\\n        \"mcq\": \"When did life emerge on Earth?\",\\n        \"options\": {\\n            \"a\": \"Less than 1 billion years ago\",\\n            \"b\": \"Around 3.7 billion years ago\",\\n            \"c\": \"More than 5 billion years ago\",\\n            \"d\": \"About 100 million years ago\"\\n        },\\n        \"correct\": \"b\"\\n    }\\n}\\n```',\n",
       " 'review': '```json\\n{\\n    \"1\": {\\n        \"mcq\": \"What is the primary focus of biology?\",\\n        \"options\": {\\n            \"a\": \"Study of inanimate objects\",\\n            \"b\": \"Scientific study of life\",\\n            \"c\": \"Study of physical laws\",\\n            \"d\": \"Study of chemical reactions\"\\n        },\\n        \"correct\": \"b\"\\n    },\\n    \"2\": {\\n        \"mcq\": \"Which unifying theme emphasizes the relatedness of life on Earth?\",\\n        \"options\": {\\n            \"a\": \"Evolution of populations\",\\n            \"b\": \"Energy processing in organisms\",\\n            \"c\": \"Regulation of internal environments\",\\n            \"d\": \"Unity and diversity of life\"\\n        },\\n        \"correct\": \"d\"\\n    },\\n    \"3\": {\\n        \"mcq\": \"What is the basic unit of life according to biology?\",\\n        \"options\": {\\n            \"a\": \"Cell\",\\n            \"b\": \"Gene\",\\n            \"c\": \"Tissue\",\\n            \"d\": \"Organ\"\\n        },\\n        \"correct\": \"a\"\\n    },\\n    \"4\": {\\n        \"mcq\": \"Which process allows organisms to obtain energy for growth and activity?\",\\n        \"options\": {\\n            \"a\": \"Photosynthesis\",\\n            \"b\": \"Cellular respiration\",\\n            \"c\": \"Fermentation\",\\n            \"d\": \"Decomposition\"\\n        },\\n        \"correct\": \"b\"\\n    },\\n    \"5\": {\\n        \"mcq\": \"What is the driving force behind the diversity of life on Earth?\",\\n        \"options\": {\\n            \"a\": \"Random mutations\",\\n            \"b\": \"Environmental changes\",\\n            \"c\": \"Natural selection\",\\n            \"d\": \"Genetic engineering\"\\n        },\\n        \"correct\": \"c\"\\n    }\\n}\\n```'}"
      ]
     },
     "execution_count": 96,
     "metadata": {},
     "output_type": "execute_result"
    }
   ],
   "source": [
    "response"
   ]
  },
  {
   "cell_type": "code",
   "execution_count": 97,
   "metadata": {},
   "outputs": [],
   "source": [
    "quiz=response.get(\"quiz\")"
   ]
  },
  {
   "cell_type": "code",
   "execution_count": null,
   "metadata": {},
   "outputs": [],
   "source": []
  },
  {
   "cell_type": "code",
   "execution_count": 98,
   "metadata": {},
   "outputs": [
    {
     "data": {
      "text/plain": [
       "str"
      ]
     },
     "execution_count": 98,
     "metadata": {},
     "output_type": "execute_result"
    }
   ],
   "source": [
    "import json\n",
    "\n",
    "quiz_json = json.dumps(quiz, indent=4)  # Convert the dictionary to a pretty JSON string\n",
    "type(quiz_json)\n"
   ]
  },
  {
   "cell_type": "code",
   "execution_count": 99,
   "metadata": {},
   "outputs": [
    {
     "name": "stdout",
     "output_type": "stream",
     "text": [
      "<class 'dict'>\n",
      "{'question_id': '1', 'mcq': 'What is the primary focus of biology?', 'correct': 'b', 'option_a': 'Study of inanimate objects', 'option_b': 'Study of life forms', 'option_c': 'Study of physical laws', 'option_d': 'Study of mathematical concepts'}\n",
      "{'question_id': '2', 'mcq': 'Which unifying theme connects all organisms?', 'correct': 'b', 'option_a': 'Their ability to fly', 'option_b': 'Their genetic material', 'option_c': 'Their physical appearance', 'option_d': 'Their speed of growth'}\n",
      "{'question_id': '3', 'mcq': 'What is a major energy-related process in life?', 'correct': 'a', 'option_a': 'Photosynthesis', 'option_b': 'Cellular respiration', 'option_c': 'Fermentation', 'option_d': 'Combustion'}\n",
      "{'question_id': '4', 'mcq': 'Which level of organization does biology study?', 'correct': 'd', 'option_a': 'Molecular level', 'option_b': 'Cellular level', 'option_c': 'Tissue level', 'option_d': 'All of the above'}\n",
      "{'question_id': '5', 'mcq': 'When did life emerge on Earth?', 'correct': 'b', 'option_a': 'Less than 1 billion years ago', 'option_b': 'Around 3.7 billion years ago', 'option_c': 'More than 5 billion years ago', 'option_d': 'About 100 million years ago'}\n"
     ]
    }
   ],
   "source": [
    "import json\n",
    "\n",
    "# The 'quiz' JSON string from the response\n",
    "quiz_json = response['quiz']#response.get(\"quiz\")\n",
    "\n",
    "# Step 1: Parse the JSON string into a Python dictionary\n",
    "try:\n",
    "    quiz = json.loads(quiz_json.strip('```json').strip('```'))\n",
    "    print(type(quiz))\n",
    "except json.JSONDecodeError as e:\n",
    "    print(f\"Error parsing JSON: {e}\")\n",
    "    quiz = {}\n",
    "\n",
    "# Step 2: Preprocess the dictionary into a list of records\n",
    "quiz_records = []\n",
    "if isinstance(quiz, dict):\n",
    "    for question_id, question_data in quiz.items():\n",
    "        flat_question = {\n",
    "            \"question_id\": question_id,\n",
    "            \"mcq\": question_data[\"mcq\"],\n",
    "            \"correct\": question_data[\"correct\"]\n",
    "        }\n",
    "        # Add options with flattened keys\n",
    "        flat_question.update({\n",
    "            f\"option_{key}\": value for key, value in question_data[\"options\"].items()\n",
    "        })\n",
    "        quiz_records.append(flat_question)\n",
    "else:\n",
    "    print(\"Parsed 'quiz' is not a dictionary.\")\n",
    "\n",
    "# Step 3: Print the processed records for verification\n",
    "for record in quiz_records:\n",
    "    print(record)\n"
   ]
  },
  {
   "cell_type": "code",
   "execution_count": 100,
   "metadata": {},
   "outputs": [
    {
     "data": {
      "text/html": [
       "<div>\n",
       "<style scoped>\n",
       "    .dataframe tbody tr th:only-of-type {\n",
       "        vertical-align: middle;\n",
       "    }\n",
       "\n",
       "    .dataframe tbody tr th {\n",
       "        vertical-align: top;\n",
       "    }\n",
       "\n",
       "    .dataframe thead th {\n",
       "        text-align: right;\n",
       "    }\n",
       "</style>\n",
       "<table border=\"1\" class=\"dataframe\">\n",
       "  <thead>\n",
       "    <tr style=\"text-align: right;\">\n",
       "      <th></th>\n",
       "      <th>question_id</th>\n",
       "      <th>mcq</th>\n",
       "      <th>correct</th>\n",
       "      <th>option_a</th>\n",
       "      <th>option_b</th>\n",
       "      <th>option_c</th>\n",
       "      <th>option_d</th>\n",
       "    </tr>\n",
       "  </thead>\n",
       "  <tbody>\n",
       "    <tr>\n",
       "      <th>0</th>\n",
       "      <td>1</td>\n",
       "      <td>What is the primary focus of biology?</td>\n",
       "      <td>b</td>\n",
       "      <td>Study of inanimate objects</td>\n",
       "      <td>Study of life forms</td>\n",
       "      <td>Study of physical laws</td>\n",
       "      <td>Study of mathematical concepts</td>\n",
       "    </tr>\n",
       "    <tr>\n",
       "      <th>1</th>\n",
       "      <td>2</td>\n",
       "      <td>Which unifying theme connects all organisms?</td>\n",
       "      <td>b</td>\n",
       "      <td>Their ability to fly</td>\n",
       "      <td>Their genetic material</td>\n",
       "      <td>Their physical appearance</td>\n",
       "      <td>Their speed of growth</td>\n",
       "    </tr>\n",
       "    <tr>\n",
       "      <th>2</th>\n",
       "      <td>3</td>\n",
       "      <td>What is a major energy-related process in life?</td>\n",
       "      <td>a</td>\n",
       "      <td>Photosynthesis</td>\n",
       "      <td>Cellular respiration</td>\n",
       "      <td>Fermentation</td>\n",
       "      <td>Combustion</td>\n",
       "    </tr>\n",
       "    <tr>\n",
       "      <th>3</th>\n",
       "      <td>4</td>\n",
       "      <td>Which level of organization does biology study?</td>\n",
       "      <td>d</td>\n",
       "      <td>Molecular level</td>\n",
       "      <td>Cellular level</td>\n",
       "      <td>Tissue level</td>\n",
       "      <td>All of the above</td>\n",
       "    </tr>\n",
       "    <tr>\n",
       "      <th>4</th>\n",
       "      <td>5</td>\n",
       "      <td>When did life emerge on Earth?</td>\n",
       "      <td>b</td>\n",
       "      <td>Less than 1 billion years ago</td>\n",
       "      <td>Around 3.7 billion years ago</td>\n",
       "      <td>More than 5 billion years ago</td>\n",
       "      <td>About 100 million years ago</td>\n",
       "    </tr>\n",
       "  </tbody>\n",
       "</table>\n",
       "</div>"
      ],
      "text/plain": [
       "  question_id                                              mcq correct  \\\n",
       "0           1            What is the primary focus of biology?       b   \n",
       "1           2     Which unifying theme connects all organisms?       b   \n",
       "2           3  What is a major energy-related process in life?       a   \n",
       "3           4  Which level of organization does biology study?       d   \n",
       "4           5                   When did life emerge on Earth?       b   \n",
       "\n",
       "                        option_a                      option_b  \\\n",
       "0     Study of inanimate objects           Study of life forms   \n",
       "1           Their ability to fly        Their genetic material   \n",
       "2                 Photosynthesis          Cellular respiration   \n",
       "3                Molecular level                Cellular level   \n",
       "4  Less than 1 billion years ago  Around 3.7 billion years ago   \n",
       "\n",
       "                        option_c                        option_d  \n",
       "0         Study of physical laws  Study of mathematical concepts  \n",
       "1      Their physical appearance           Their speed of growth  \n",
       "2                   Fermentation                      Combustion  \n",
       "3                   Tissue level                All of the above  \n",
       "4  More than 5 billion years ago     About 100 million years ago  "
      ]
     },
     "execution_count": 100,
     "metadata": {},
     "output_type": "execute_result"
    }
   ],
   "source": [
    "# Step 4: Save to CSV (optional)\n",
    "import pandas as pd\n",
    "\n",
    "# Assuming 'quiz_records' is a list of dictionaries from the previous code\n",
    "df = pd.DataFrame(quiz_records)\n",
    "\n",
    "# Step 2: Display the DataFrame to verify the results\n",
    "df.head()\n"
   ]
  },
  {
   "cell_type": "code",
   "execution_count": 101,
   "metadata": {},
   "outputs": [],
   "source": [
    "# Step 3: Optionally, save the DataFrame to a CSV file if needed\n",
    "df.to_csv('quiz_records.csv', index=False)\n"
   ]
  },
  {
   "cell_type": "code",
   "execution_count": null,
   "metadata": {},
   "outputs": [],
   "source": []
  },
  {
   "cell_type": "code",
   "execution_count": null,
   "metadata": {},
   "outputs": [],
   "source": []
  },
  {
   "cell_type": "code",
   "execution_count": null,
   "metadata": {},
   "outputs": [],
   "source": []
  },
  {
   "cell_type": "code",
   "execution_count": null,
   "metadata": {},
   "outputs": [],
   "source": []
  }
 ],
 "metadata": {
  "kernelspec": {
   "display_name": "env",
   "language": "python",
   "name": "python3"
  },
  "language_info": {
   "codemirror_mode": {
    "name": "ipython",
    "version": 3
   },
   "file_extension": ".py",
   "mimetype": "text/x-python",
   "name": "python",
   "nbconvert_exporter": "python",
   "pygments_lexer": "ipython3",
   "version": "3.8.20"
  }
 },
 "nbformat": 4,
 "nbformat_minor": 2
}
